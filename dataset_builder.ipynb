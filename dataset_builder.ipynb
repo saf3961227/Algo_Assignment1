{
 "cells": [
  {
   "cell_type": "code",
   "execution_count": 1,
   "metadata": {},
   "outputs": [
    {
     "name": "stdout",
     "output_type": "stream",
     "text": [
      "Data files have been created successfully.\n"
     ]
    }
   ],
   "source": [
    "import random\n",
    "\n",
    "# Define the sizes for the split files\n",
    "sizes = [500, 1000, 5000, 10000, 20000, 50000, 100000]\n",
    "\n",
    "# Read the data from the sampleData200k.txt file\n",
    "with open('sampleData200k.txt', 'r') as file:\n",
    "    data = file.readlines()\n",
    "\n",
    "# Shuffle the data to ensure randomness\n",
    "random.shuffle(data)\n",
    "\n",
    "# Initialize a start index\n",
    "start_index = 0\n",
    "\n",
    "# Loop through each size and create a new file with that number of lines\n",
    "for size in sizes:\n",
    "    # Define the end index\n",
    "    end_index = start_index + size\n",
    "    \n",
    "    # Get the subset of data\n",
    "    subset_data = data[start_index:end_index]\n",
    "    \n",
    "    # Write the subset of data to a new file\n",
    "    with open(f'sampleData_{size}.txt', 'w') as new_file:\n",
    "        new_file.writelines(subset_data)\n",
    "    \n",
    "    # Update the start index for the next iteration\n",
    "    start_index = end_index\n",
    "\n",
    "print(\"Data files have been created successfully.\")\n"
   ]
  }
 ],
 "metadata": {
  "kernelspec": {
   "display_name": "python_env",
   "language": "python",
   "name": "python3"
  },
  "language_info": {
   "codemirror_mode": {
    "name": "ipython",
    "version": 3
   },
   "file_extension": ".py",
   "mimetype": "text/x-python",
   "name": "python",
   "nbconvert_exporter": "python",
   "pygments_lexer": "ipython3",
   "version": "3.11.2"
  },
  "orig_nbformat": 4
 },
 "nbformat": 4,
 "nbformat_minor": 2
}
